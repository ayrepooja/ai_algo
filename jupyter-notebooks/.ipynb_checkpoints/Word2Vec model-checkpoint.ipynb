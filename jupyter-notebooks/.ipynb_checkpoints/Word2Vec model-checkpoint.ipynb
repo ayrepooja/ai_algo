{
 "cells": [
  {
   "cell_type": "code",
   "execution_count": 1,
   "metadata": {},
   "outputs": [],
   "source": [
    "import os"
   ]
  },
  {
   "cell_type": "code",
   "execution_count": 4,
   "metadata": {},
   "outputs": [],
   "source": [
    "projectDir = '/home/manojmenpadi/Documents/Soft Computing/Extraction of Skills/'\n",
    "cleanResumeDir = projectDir + 'data/clean_resume/'\n",
    "\n",
    "os.chdir(cleanResumeDir)\n",
    "\n",
    "tokenized_resumes = []\n",
    "\n",
    "for clean_resume in os.listdir(cleanResumeDir):\n",
    "    file = open(str(clean_resume), 'r')\n",
    "    resume = file.read()\n",
    "    tokenized_resumes.append(resume.split())"
   ]
  },
  {
   "cell_type": "code",
   "execution_count": 7,
   "metadata": {},
   "outputs": [
    {
     "name": "stdout",
     "output_type": "stream",
     "text": [
      "[['madara', 'amarasinghe', 'madara', 'amarasinghe', 'gmail', 'com', 'date', 'birth', 'tel', 'no', 'awards', 'certifications', 'xero', 'certified', 'june', 'acccountingsoftware', 'quick', 'books', 'proadviser', 'nov', 'accounting', 'software', 'smsf', 'trustee', 'certification', 'june', 'australia', 'education', 'cima', 'managerial', 'level', 'cpa', 'srilanka', 'following', 'p1', 'experience', 'senior', 'accountant', 'glance', 'bpo', 'pty', 'ltd', 'june', 'january', 'accomplishments', 'ensure', 'lodgments', 'income', 'tax', 'returns', 'business', 'activity', 'statements', 'along', 'associated', 'schedules', 'australian', 'tax', 'office', 'submitted', 'accurately', 'timely', 'basis', 'preparation', 'review', 'financial', 'reports', 'cash', 'flow', 'forecasts', 'prepare', 'review', 'income', 'tax', 'returns', 'individuals', 'partnerships', 'trusts', 'companies', 'ensure', 'bookkeeping', 'payroll', 'activities', 'completed', 'accurately', 'timely', 'basis', 'carry', 'audits', 'australian', 'tax', 'office', 'carry', 'xero', 'quick', 'book', 'myob', 'conversions', 'provide', 'financial', 'tax', 'advice', 'support', 'clients', 'skills', 'microsoft', 'office', 'xero', 'sap', 'deputy', 'quick', 'books', 'receipt', 'bank', 'myob', 'handi', 'tax', 'ledger', 'work', 'flow', 'max', 'e', 'commerce', 'on', 'boarding', 'new', 'clients', 'introduction', 'work', 'procedures', 'continually', 'identifying', 'process', 'developments', 'dealing', 'australian', 'tax', 'office', 'asic', 'client', 'matters', 'systems', 'handled', 'xero', 'myob', 'cchi', 'handi', 'tax', 'ledger', 'qb', 'soft', 'assist', 'workflowmax', 'xero', 'practice', 'manager', 'assistant', 'accountant', 'iconic', 'mind', 'pty', 'ltd', 'october', 'may', 'accomplishments', 'book', 'keeping', 'quickbooks', 'online', 'preparing', 'financial', 'accounts', 'management', 'reports', 'preparing', 'cash', 'flows', 'filing', 'tax', 'returns', 'at', 'maryland', 'tax', 'corporation', 'directly', 'liaise', 'customers', 'invoicing', 'emailing', 'outstanding', 'letters', 'customers', 'accounts', 'executive', 'allianz', 'insurance', 'lanka', 'ltd', 'jan', 'october', 'accomplishments', 'group', 'reporting', 'azap', 'singapore', 'regional', 'office', 'budgeting', 'planning', 'financial', 'accounts', 'preparing', 'branch', 'accounts', 'monthly', 'accounts', 'handling', 'monthly', 'general', 'vouchers', 'monthly', 'balance', 'sheet', 'reconciliations', 'book', 'keeping', 'preparing', 'financial', 'reports', 'budgets', 'kpis', 'variance', 'analysis', 'preparing', 'monthly', 'cash', 'flows', 'finalizing', 'management', 'accounts', 'reporting', 'main', 'regulatory', 'body', 'ibsl', 'central', 'bank', 'census', 'research', 'associate', 'rr', 'donnelley', 'company', 'may', 'december', 'accomplishments', 'operate', 'important', 'link', 'client', 'management', 'analyses', 'financial', 'data', 'financial', 'statements', 'create', 'reports', 'xbrl', 'format', 'extensible', 'business', 'reporting', 'language', 'assistant', 'accounts', 'consultant', 'ossman', 'consultants', 'limited', 'june', 'april', 'accomplishments', 'preparation', 'personnel', 'tax', 'returns', 'uk', 'clients', 'bank', 'reconciliation', 'preparation', 'payrolls', 'employers', 'annual', 'returns', 'benefits', 'kind', 'returns', 'preparation', 'rental', 'accounts', 'credit', 'control', 'preparing', 'company', 'annual', 'returns', 'book', 'keeping', 'preparation', 'cash', 'books', 'preparation', 'corporation', 'tax', 'returns', 'preparing', 'feeding', 'accounting', 'data', 'computerized', 'system', 'invoice', 'petty', 'cash', 'bank', 'entries', 'bank', 'deposits', 'all', 'journal', 'entries', 'required', 'assisting', 'preparation', 'financial', 'accounts', 'management', 'reports', 'preparing', 'bank', 'reconciliation', 'vat', 'schedule', 'stamp', 'duty', 'withholding', 'tax', 'schedules', 'updating', 'register', 'system', 'preparation', 'ad', 'hoc', 'reports', 'requested', 'management', 'vehicle', 'maintenance', 'leasing', 'individual', 'costing', 'expenditure', 'analysis', 'accomplishments', 'extra', 'curricular', 'activities', 'participated', 'cima', 'mind', 'challenge', 'rr', 'donnelley', 'won', 'gold', 'medal', 'rr', 'donnelley', 'mind', 'challenge', 'was', 'active', 'member', 'lmd', 'society', 'period', 'played', 'badminton', 'school', 'reference', 'available', 'request'], ['foo', 'chin', 'kiat', 'jeremy', 'mobile', 'no', 'email', 'jeremyfoo87', 'gmail', 'com', 'work', 'experience', 'kpmg', 'services', 'pte', 'ltd', 'assistant', 'manager', 'financial', 'services', 'risk', 'regulatory', 'compliance', 'feb', 'present', 'working', 'proficiency', \"singapore's\", 'banking', 'act', 'securities', 'futures', 'act', 'sfa', 'financial', 'advisers', 'act', 'faa', 'monetary', 'authority', 'singapore', 'mas', 'notices', 'guidelines', 'singapore', 'exchange', 'sgx', 'rulebooks', 'foreign', 'account', 'tax', 'compliance', 'act', 'fatca', 'common', 'reporting', 'standard', 'crs', 'assisted', 'reviewing', 'customer', 'product', 'risk', 'rating', 'framework', 'private', 'bank', 'recommended', 'changes', 'accordance', 'best', 'practices', 'reviewed', 'policies', 'procedures', 'discretionary', 'advisory', 'process', 'fund', 'management', 'private', 'banking', 'clients', 'identify', 'areas', 'gaps', 'benchmarked', 'local', 'industry', 'practices', 'mas', 'guidance', 'private', 'banking', 'controls', 'hong', 'kong', 'securities', 'futures', 'commission', 'code', 'conduct', 'led', 'teams', 'agreed', 'upon', 'procedures', 'broker', 'dealers', 'clearing', 'member', 'firms', 'sgx', 'st', 'sgx', 'dt', 'reviewing', 'credit', 'policies', 'margin', 'financing', 'procedures', 'trading', 'surveillance', 'monitoring', 'plan', 'assisted', 'reviewing', 'prospective', 'foreign', 'bank', 'questionnaire', 'advised', 'potential', 'licensing', 'obligations', 'relation', 'various', 'financial', 'banking', 'services', 'conducted', 'internal', 'audit', 'regulatory', 'diagnostic', 'reviews', 'fund', 'managers', 'assess', 'effectiveness', 'corporate', 'governance', 'investment', 'management', 'procedures', 'adequacy', 'market', 'conduct', 'practices', 'marketing', 'procedures', 'reviewed', 'anti', 'money', 'laundering', 'counter', 'financing', 'terrorism', 'aml', 'cft', 'policies', 'controls', 'fund', 'managers', 'private', 'banks', 'focusing', 'customer', 'due', 'diligence', 'screening', 'ongoing', 'monitoring', 'suspicious', 'transactions', 'monitoring', 'practices', 'conducted', 'regular', 'internal', 'external', 'trainings', 'principal', 'regulations', 'code', 'collective', 'investment', 'schemes', 'prevention', 'money', 'laundering', 'countering', 'financing', 'terrorism', 'common', 'reporting', 'standard', 'fund', 'managers', 'private', 'banks', 'reviewed', 'assisted', 'provide', 'industry', 'feedback', 'various', 'consultation', 'papers', 'issued', 'regulators', 'industry', 'bodies', 'these', 'consultation', 'papers', 'included', 'enhancements', 'regulatory', 'requirements', 'customer', 's', 'moneys', 'assets', 'guidelines', 'outsourcing', 'refinements', 'non', 'retail', 'investor', 'classes', 'regime', 'sfa', 'faa', 'associate', 'tax', 'planning', 'compliance', 'jan', 'jan', 'prepared', 'reviewed', 'client', 's', 'tax', 'returns', 'computations', 'tax', 'provisions', 'portfolio', 'diversified', 'clients', 'comprising', 'commodity', 'engineering', 'hospitals', 'retail', 'shipping', 'telecommunications', 'companies', 'handled', 'inland', 'revenue', 'authority', 'singapore', 'iras', 'queries', 'disputes', 'clients', 'tight', 'deadlines', 'ernst', 'young', 'llp', 'intern', 'financial', 'services', 'assurance', 'sept', 'dec', 'dec', 'feb', 'assisted', 'interims', 'final', 'audit', 'private', 'banks', 'asset', 'management', 'firms', 'chartered', 'accountant', 'singapore', 'feb', 'present', 'cmfas', 'module', 'rules', 'regulations', 'fund', 'management', 'feb', 'certifications', 'education', 'singapore', 'management', 'university', 'b', 'acc', 'nd', 'major', 'finance', 'aug', 'aug', 'temasek', 'junior', 'college', 'gce', 'a', 'level', 'jan', 'dec', 'anglican', 'high', 'school', 'gce', 'o', 'level', 'jan', 'dec'], ['lee', 'tze', 'choong', 'block', 'tao', 'payoh', 'lorong', 'singapore', 'september', 'malaysian', 'lee_t_choong', 'hotmail', 'com', 'personal', 'particulars', 'name', 'residential', 'address', 'date', 'birth', 'nationality', 'mobile', 'no', 'e', 'mail', 'address', 'career', 'objectives', 'to', 'pursue', 'position', 'challenging', 'healthy', 'work', 'environment', 'opportunity', 'career', 'advancement', 'ideally', 'organization', 'value', 'employees', 'experience', 'opinions', 'contributions', 'overall', 'well', 'being', 'firm', 'professional', 'profiles', 'team', 'flexible', 'adaptable', 'contributor', 'good', 'multi', 'tasking', 'meeting', 'deadline', 'thriving', 'fast', 'paced', 'environment', 'innovative', 'self', 'motivated', 'team', 'builder', 'able', 'work', 'independently', 'required', 'good', 'managing', 'team', 'members', 'include', 'providing', 'guidance', 'constructive', 'maintain', 'healthy', 'professional', 'relationships', 'clients', 'colleagues', 'top', 'feedbacks', 'managements', 'good', 'interpersonal', 'skills', 'fine', 'analytical', 'writing', 'skills', 'professional', 'experience', 'kpmg', 'llp', 'singapore', 'july', 'present', 'audit', 'manager', 'managing', 'audit', 'portfolios', 'various', 'industries', 'real', 'estate', 'development', 'education', 'media', 'broadcast', 'trading', 'coordinate', 'audit', 'multinational', 'corporations', 'overseas', 'counterparts', 'provide', 'technical', 'accounting', 'advisory', 'client', 'arrange', 'lead', 'meetings', 'client', 's', 'key', 'management', 'developed', 'implemented', 'client', 'service', 'plan', 'engagement', 'preparing', 'engagement', 'budget', 'improving', 'profitability', 'engagement', 'ernst', 'young', 'kl', 'march', 'april', 'audit', 'assistant', 'manager', 'senior', 'in', 'charge', 'audit', 'engagements', 'industries', 'real', 'estate', 'development', 'investment', 'holding', 'media', 'advertisement', 'manufacturing', 'trading', 'infrastructure', 'various', 'leading', 'monitor', 'provide', 'on', 'job', 'trainings', 'subordinates', 'planning', 'executing', 'audit', 'team', 'activities', 'meet', 'objectives', 'within', 'tight', 'deadlines', 'review', 'consolidated', 'financial', 'statements', 'draft', 'management', 'letter', 'management', 'letter', 'includes', 'weaknesses', 'identified', 'potential', 'impact', 'recommendation', 'remedial', 'actions', 'interview', 'key', 'management', 'various', 'companies', 'including', 'multinational', 'companies', 'understand', 'business', 'overview', 'analyse', 'financial', 'data', 'including', 'past', 'trends', 'review', 'financial', 'future', 'cashflow', 'projections', 'review', 'audit', 'files', 'working', 'papers', 'prepared', 'subordinates', 'provide', 'constructive', 'comments', 'improvements', 'maintain', 'quality', 'audit', 'services', 'provided', 'assisting', 'directors', 'senior', 'managers', 'medium', 'communication', 'client', 'firm', 'maintains', 'good', 'rapport', 'senior', 'personnel', 'client', 'companies', 'within', 'assigned', 'engagements', 'lim', 'su', 'chung', 'co', 'november', 'december', 'vacation', 'trainee', 'assisted', 'provision', 'accounting', 'services', 'including', 'keying', 'inputs', 'basic', 'general', 'ledgers', 'subledgers', 'payroll', 'qualifications', 'association', 'chartered', 'certified', 'accountants', 'acca', 'subject', 'taxation', 'p6', 'advanced', 'audit', 'assurance', 'p7', 'status', 'tax', 'f6', 'audit', 'assurance', 'f8', 'professional', 'accountant', 'p1', 'corporate', 'reporting', 'p2', 'business', 'analysis', 'p3', 'advanced', 'final', 'paper', 'advanced', 'audit', 'assurance', 'p7', 'bachelor', 'arts', 'hons', '2nd', 'lower', 'class', 'accounting', 'finance', 'bdo', 'binder', 'prize', 'award', 'financial', 'accounting', 'theory', 'sijil', 'pelajaran', 'malaysia', 'spm', 'science', 'qualifications', 'contd', 'oxford', 'brookes', 'university', 'uk', 'nilai', 'university', 'college', 'graduation', 'date', 'september', 'qualification', 'grade', 'major', 'award', 'sm', 'lok', 'yuk', 'kota', 'kinabalu', 'sabah', 'qualification', 'grade', 'subject', 'extra', 'co', 'curricular', 'activities', 'hobbies', 'badminton', 'basketball', 'gym', 'travelling', 'language', 'proficiencies', 'speaking', 'language', 'proficiency', 'high', 'high', 'high', 'writing', 'proficiency', 'high', 'high', 'low', 'english', 'malay', 'chinese', 'mandarin', 'reading', 'proficiency', 'high', 'high', 'low']]\n"
     ]
    }
   ],
   "source": [
    "print(tokenized_resumes[:3])"
   ]
  },
  {
   "cell_type": "code",
   "execution_count": 8,
   "metadata": {},
   "outputs": [],
   "source": [
    "import gensim\n",
    "from gensim.models import Word2Vec, KeyedVectors\n",
    "import multiprocessing"
   ]
  },
  {
   "cell_type": "code",
   "execution_count": 9,
   "metadata": {},
   "outputs": [
    {
     "data": {
      "text/plain": [
       "(9472637, 10246270)"
      ]
     },
     "execution_count": 9,
     "metadata": {},
     "output_type": "execute_result"
    }
   ],
   "source": [
    "modelDir = projectDir + 'models/'\n",
    "os.chdir(modelDir)\n",
    "\n",
    "model = gensim.models.Word2Vec(tokenized_resumes, size=300, window=12, min_count=5, negative=15, \n",
    "               iter=15, workers=multiprocessing.cpu_count())\n",
    "\n",
    "model.intersect_word2vec_format('GoogleNews-vectors-negative300.bin.gz', lockf=1.0, binary=True)\n",
    "\n",
    "model.train(sentences = tokenized_resumes, total_examples=model.corpus_count, epochs = 10)"
   ]
  },
  {
   "cell_type": "code",
   "execution_count": 10,
   "metadata": {},
   "outputs": [
    {
     "name": "stdout",
     "output_type": "stream",
     "text": [
      "Most Similar to 'math' : \n",
      " [('biology', 0.6217535734176636), ('algebra', 0.6152836084365845), ('physics', 0.5924645066261292), ('chemistry', 0.569869339466095), ('maths', 0.5624556541442871)]\n",
      "Most Similar to 'account' : \n",
      " [('accounts', 0.6191959977149963), ('payment', 0.36602380871772766), ('invoices', 0.3421650230884552), ('ageing', 0.33818766474723816), ('payments', 0.32117050886154175)]\n",
      "Most Similar to 'data' : \n",
      " [('database', 0.4426536560058594), ('edw', 0.4288189113140106), ('using', 0.37315428256988525), ('text', 0.37250417470932007), ('used', 0.365411639213562)]\n",
      "Most Similar to 'algorithm' : \n",
      " [('knn', 0.6743128299713135), ('ranking', 0.6673709154129028), ('we', 0.6547940969467163), ('ﬁltering', 0.6361336708068848), ('filtering', 0.6348764300346375)]\n",
      "Most Similar to 'engineer' : \n",
      " [('engineering', 0.45877087116241455), ('electrical', 0.44837719202041626), ('mechanical', 0.4470131993293762), ('mechanic', 0.4335407614707947), ('designer', 0.4291698634624481)]\n",
      "Most Similar to 'supervised' : \n",
      " [('trained', 0.572476327419281), ('coached', 0.5572071075439453), ('guided', 0.4993772804737091), ('mentored', 0.48025763034820557), ('supervision', 0.4352145493030548)]\n"
     ]
    }
   ],
   "source": [
    "word_vectors = model.wv\n",
    "result = word_vectors.similar_by_word(\"math\")\n",
    "print(\"Most Similar to 'math' : \\n\", result[:5])\n",
    "\n",
    "result = word_vectors.similar_by_word(\"account\")\n",
    "print(\"Most Similar to 'account' : \\n\", result[:5])\n",
    "\n",
    "result = word_vectors.similar_by_word(\"data\")\n",
    "print(\"Most Similar to 'data' : \\n\", result[:5])\n",
    "\n",
    "result = word_vectors.similar_by_word(\"algorithm\")\n",
    "print(\"Most Similar to 'algorithm' : \\n\", result[:5])\n",
    "\n",
    "result = word_vectors.similar_by_word(\"engineer\")\n",
    "print(\"Most Similar to 'engineer' : \\n\", result[:5])\n",
    "\n",
    "result = word_vectors.similar_by_word(\"supervised\")\n",
    "print(\"Most Similar to 'supervised' : \\n\", result[:5])"
   ]
  },
  {
   "cell_type": "code",
   "execution_count": 11,
   "metadata": {},
   "outputs": [
    {
     "name": "stdout",
     "output_type": "stream",
     "text": [
      "[-5.24685800e-01  5.27887702e-01 -3.53009611e-01  5.70133865e-01\n",
      " -5.66304088e-01 -5.12621343e-01 -2.69857019e-01  1.19676352e+00\n",
      " -5.73046386e-01 -1.18588328e+00 -1.67034864e-01  3.74481857e-01\n",
      "  9.88111496e-01  5.32352105e-02  2.76569843e-01  9.33825195e-01\n",
      "  5.02105594e-01  4.55108583e-01  9.27956343e-01  4.40152645e-01\n",
      "  1.90396607e-01  1.08878635e-01  1.03672993e+00  1.37037957e+00\n",
      " -4.36156988e-02 -5.49415290e-01 -3.15614104e-01 -1.72401202e+00\n",
      " -1.68685412e+00  2.51683617e+00  1.45860076e+00 -2.06278038e+00\n",
      " -3.18728447e-01  1.14401090e+00  3.40393305e-01 -1.34518659e+00\n",
      "  3.50013345e-01 -6.93491638e-01 -4.69896019e-01 -5.08320108e-02\n",
      "  6.55784607e-01 -6.40687346e-02 -3.85878354e-01 -2.46785975e+00\n",
      " -6.30502343e-01 -4.56212640e-01 -3.90113778e-02  1.33124983e+00\n",
      " -1.50234401e+00 -1.63732731e+00 -4.86192912e-01 -1.56792160e-02\n",
      " -1.13560164e+00  7.88410068e-01  1.88764006e-01 -7.70380616e-01\n",
      "  6.15646183e-01 -6.27351105e-01  6.33078873e-01 -1.52658010e+00\n",
      " -3.97777021e-01  3.10670529e-02 -9.06329215e-01  2.14760229e-01\n",
      " -6.04483724e-01  4.65913653e-01 -1.41764712e+00  1.29224360e+00\n",
      "  1.65844962e-01 -2.52182752e-01  5.70585012e-01  2.52361596e-01\n",
      " -7.48129115e-02 -5.92171866e-03 -1.01768322e-01 -4.76998091e-01\n",
      "  1.03774679e+00  8.06094587e-01 -1.54531926e-01 -9.39344406e-01\n",
      "  1.42158782e+00 -2.16441110e-01 -1.41374171e+00 -1.27524686e+00\n",
      " -8.65373194e-01  1.25529957e+00  5.92033029e-01 -1.03016007e+00\n",
      " -1.47130787e-01  5.08337855e-01 -1.54791683e-01 -1.03669417e+00\n",
      "  2.25820851e+00  1.06633151e+00  1.19088113e+00  6.43275082e-01\n",
      " -1.83918345e+00 -1.32062227e-01 -9.32036191e-02  3.04220547e-03\n",
      "  7.80104697e-01 -3.78587186e-01 -4.32652563e-01 -5.43001115e-01\n",
      "  1.17151105e+00 -1.22513556e+00  7.32466817e-01  6.05028391e-01\n",
      " -1.10088490e-01 -2.17102432e+00  2.03266597e+00  2.27794424e-01\n",
      " -2.05373383e+00 -1.32999110e+00 -1.91777542e-01 -2.33125299e-01\n",
      "  5.24579108e-01 -2.51080006e-01 -9.79148805e-01 -9.42533493e-01\n",
      " -1.68479311e+00 -7.37567127e-01  4.01901335e-01  3.89922810e+00\n",
      " -2.31580153e-01 -3.32275391e-01  9.09675285e-02  1.65907368e-01\n",
      "  2.05891859e-03  1.11520529e+00  1.54054865e-01 -1.58171847e-01\n",
      " -1.60743922e-01  4.28869516e-01 -8.67673680e-02 -7.13082314e-01\n",
      " -5.56944683e-02  1.30434906e+00 -3.90794903e-01 -2.16191217e-01\n",
      "  2.93553203e-01 -9.43551600e-01 -1.17022729e+00 -3.73766482e-01\n",
      " -7.35089421e-01  9.00821865e-01 -1.28492749e+00 -7.87995636e-01\n",
      "  6.41008019e-01  4.98324297e-02 -5.64575791e-01 -2.10265830e-01\n",
      "  6.96655095e-01 -2.88756013e-01  4.74698275e-01  8.59966576e-01\n",
      " -7.19791830e-01 -8.36868346e-01  5.57285368e-01 -5.83648622e-01\n",
      "  1.63042557e+00 -9.67769623e-01 -1.11578870e+00  3.37654918e-01\n",
      "  4.24844652e-01 -8.48944485e-01  1.05240715e+00  1.41435122e+00\n",
      "  1.57437348e+00 -9.03969109e-01  1.32404304e+00  3.82149160e-01\n",
      "  5.46852648e-01 -1.66675285e-01  1.82097697e+00  2.09423766e-01\n",
      "  4.78009343e-01  4.16959852e-01 -7.06196010e-01  6.87847793e-01\n",
      " -3.35958064e-01 -1.39412022e+00 -1.91924632e+00  7.17363656e-01\n",
      "  1.15969986e-01 -1.51023760e-01  1.09182203e+00 -2.27365512e-02\n",
      " -1.72881380e-01 -7.44812310e-01  7.26991594e-01  6.75283968e-01\n",
      " -3.03722471e-01  2.30947331e-01 -1.86037493e+00 -1.56698990e+00\n",
      " -2.00961038e-01  1.18596911e+00 -6.73677742e-01  2.90182739e-01\n",
      "  5.04613280e-01  1.53491664e+00 -2.59111106e-01 -1.88430226e+00\n",
      "  1.64367571e-01 -7.99625635e-01 -1.70295656e-01  2.90265262e-01\n",
      "  1.28335273e+00 -2.33875966e+00 -3.67306113e-01 -3.62521887e-01\n",
      "  8.45366955e-01 -6.51334405e-01 -3.24728101e-01 -2.60078490e-01\n",
      " -1.49160385e-01  5.40921211e-01 -8.92927229e-01 -1.16108632e+00\n",
      " -4.73386496e-02  4.99962807e-01  1.16922414e+00  5.80522358e-01\n",
      "  4.50108975e-01 -2.50368595e-01  4.00836557e-01 -4.47272837e-01\n",
      " -3.77516955e-01 -2.58257771e+00  1.11259794e+00 -6.88332245e-02\n",
      " -1.33832753e+00 -5.63371956e-01  6.61909401e-01  6.62028268e-02\n",
      " -2.07926869e+00 -7.15941548e-01  7.70637453e-01 -2.18042016e+00\n",
      " -2.00005794e+00 -3.26729804e-01  1.13684380e+00 -1.31620479e+00\n",
      "  8.00303221e-01 -1.63905233e-01 -1.25440860e+00  2.32894525e-01\n",
      "  8.56936038e-01  5.43889046e-01  9.00235415e-01 -8.00474763e-01\n",
      " -2.08541274e-01  5.69985569e-01 -8.47393572e-02  9.09759045e-01\n",
      " -1.90266982e-01 -1.10791218e+00 -6.77794218e-01  1.05169976e+00\n",
      "  2.39401355e-01  6.73346996e-01 -1.26144147e+00 -8.59970510e-01\n",
      "  4.49354321e-01 -5.55830121e-01 -4.19735998e-01 -1.31187189e+00\n",
      " -1.33221507e+00  1.46118605e+00  2.54787058e-01 -9.55865145e-01\n",
      " -7.31208861e-01  5.47978163e-01 -6.64197624e-01 -1.93835902e+00\n",
      "  5.55017352e-01  1.23278856e+00  1.37339234e+00 -1.57382011e+00\n",
      "  1.80038106e+00  1.76675454e-01  1.01459503e+00  5.22183120e-01\n",
      "  2.68129498e-01  4.65968698e-01  1.02676392e+00  6.77101851e-01\n",
      "  1.28298867e+00 -2.24899322e-01 -5.08333445e-01 -7.99596667e-01\n",
      " -8.04535449e-02 -1.65597987e+00 -9.64815676e-01 -1.01492143e+00\n",
      " -1.94318369e-01 -8.91054124e-02  1.48138553e-01  7.46682882e-01]\n"
     ]
    },
    {
     "name": "stderr",
     "output_type": "stream",
     "text": [
      "<ipython-input-11-145407fb78d7>:1: DeprecationWarning: Call to deprecated `__getitem__` (Method will be removed in 4.0.0, use self.wv.__getitem__() instead).\n",
      "  print(model['supervision'])\n"
     ]
    }
   ],
   "source": [
    "print(model['supervision'])"
   ]
  },
  {
   "cell_type": "code",
   "execution_count": 12,
   "metadata": {},
   "outputs": [],
   "source": [
    "modelDir = projectDir + 'models/'\n",
    "os.chdir(modelDir)\n",
    "model.init_sims(replace=True)\n",
    "#SAVE THE MODEL\n",
    "model_name = \"model_skill_extraction\"\n",
    "model.save(model_name)"
   ]
  },
  {
   "cell_type": "code",
   "execution_count": 13,
   "metadata": {},
   "outputs": [
    {
     "name": "stdout",
     "output_type": "stream",
     "text": [
      "(300,)\n"
     ]
    },
    {
     "name": "stderr",
     "output_type": "stream",
     "text": [
      "<ipython-input-13-3da5ed0c6b32>:1: DeprecationWarning: Call to deprecated `syn0` (Attribute will be removed in 4.0.0, use self.vectors instead).\n",
      "  Z = model.wv.syn0\n"
     ]
    },
    {
     "data": {
      "text/plain": [
       "array([-3.54064954e-03,  7.99306259e-02, -6.84606880e-02, -9.13051330e-03,\n",
       "       -8.87743607e-02,  1.75426677e-02, -1.26600545e-02, -6.09676987e-02,\n",
       "        1.32550858e-02, -2.63088457e-02, -1.29825668e-02,  2.03783475e-02,\n",
       "        4.12382707e-02, -5.51037826e-02,  1.91333499e-02, -5.36422245e-02,\n",
       "       -3.07374783e-02, -5.20156994e-02, -4.73901331e-02,  7.49214888e-02,\n",
       "       -3.57232280e-02,  3.77975851e-02,  9.39360559e-02,  9.88966078e-02,\n",
       "        5.41803800e-02,  1.22662388e-01,  3.91992629e-02, -3.30612063e-02,\n",
       "        1.02438289e-03,  3.70208807e-02,  1.80998929e-02, -1.38068264e-02,\n",
       "       -4.16785590e-02,  8.61622617e-02, -2.67959945e-02,  1.16890870e-01,\n",
       "       -3.10952105e-02,  6.94165286e-03,  4.18327749e-02, -5.90868294e-02,\n",
       "       -4.49658483e-02,  7.18320012e-02, -2.16380432e-02, -3.23430374e-02,\n",
       "       -3.05070486e-02,  4.12802584e-02,  1.60436146e-03,  1.60667207e-02,\n",
       "        7.23434836e-02, -5.16389310e-03, -1.82595234e-02, -4.95219938e-02,\n",
       "       -1.53836995e-01,  6.72099739e-02, -3.57810818e-02,  5.61141595e-02,\n",
       "        3.34789194e-02,  1.23135149e-01,  2.12075505e-02,  3.28430831e-02,\n",
       "       -3.15568200e-03,  4.28165011e-02, -2.52340753e-02, -6.18798099e-03,\n",
       "        3.24378945e-02,  7.28463929e-04,  1.00629978e-01,  5.47340140e-02,\n",
       "        4.86250035e-02, -1.02907270e-01,  5.96430600e-02, -2.23493148e-02,\n",
       "        6.16529807e-02,  2.61947997e-02, -1.15894563e-02, -2.08202917e-02,\n",
       "       -8.40745121e-03,  3.62407342e-02, -1.85668711e-02,  2.47506220e-02,\n",
       "        1.01320043e-01,  4.54058386e-02, -5.37321083e-02,  4.30298559e-02,\n",
       "       -4.86529730e-02, -3.84047255e-02,  5.95218409e-03, -4.25818376e-03,\n",
       "        1.04367614e-01,  2.47865077e-02,  1.76485423e-02, -2.68111248e-02,\n",
       "       -1.95232005e-05,  4.09837142e-02, -4.47631516e-02,  1.49288801e-02,\n",
       "       -4.05880995e-02, -1.23044439e-02, -8.01623091e-02, -3.78501453e-02,\n",
       "        4.11074720e-02,  1.71725787e-02,  1.04313962e-01, -3.50479409e-02,\n",
       "        3.90319386e-03, -3.26751843e-02, -2.16337927e-02,  1.38816433e-02,\n",
       "        3.20369669e-04, -3.50222513e-02,  4.33864444e-02,  2.67309062e-02,\n",
       "       -1.37174865e-02,  1.98164247e-02, -5.19128218e-02,  2.36022156e-02,\n",
       "        6.05165586e-02,  1.36462897e-02, -5.14090469e-04,  9.23007913e-03,\n",
       "        1.45033598e-01, -1.31167263e-01, -4.55098748e-02,  5.20508029e-02,\n",
       "        2.35773367e-03, -8.99816900e-02, -1.56994700e-01,  2.94775460e-02,\n",
       "        3.70371900e-02, -7.56224394e-02, -7.41908029e-02,  1.16621390e-01,\n",
       "        5.06645031e-02, -2.72870809e-02, -9.18095410e-02,  8.41157585e-02,\n",
       "        1.06116384e-02, -6.04076125e-02, -6.27200231e-02,  6.81847660e-03,\n",
       "        6.56982735e-02, -1.53329028e-02, -8.39735568e-03,  3.61696705e-02,\n",
       "        3.83071341e-02, -4.15093862e-02,  3.03928312e-02, -6.38633817e-02,\n",
       "        3.96847464e-02, -5.61174825e-02, -1.45406872e-02, -1.81139912e-02,\n",
       "       -4.30916809e-02,  1.06905535e-01,  2.63791457e-02,  2.21348032e-02,\n",
       "        4.24745046e-02,  1.78414339e-03,  7.04072043e-02,  3.87241989e-02,\n",
       "        2.68392488e-02, -2.80436245e-03, -3.56156975e-02, -7.75397718e-02,\n",
       "       -1.91830285e-02,  8.15593079e-02,  1.14324801e-02, -2.80633047e-02,\n",
       "       -3.94035764e-02,  2.82303989e-02, -1.85634254e-03,  2.70002168e-02,\n",
       "       -1.05291143e-01,  1.20045319e-01, -5.16384467e-02,  1.14251725e-01,\n",
       "        8.40481371e-02,  4.40612361e-02, -5.25187887e-02, -4.11347896e-02,\n",
       "       -5.81540987e-02,  1.18059886e-03,  3.74718010e-02,  1.69605445e-02,\n",
       "       -6.97561949e-02, -8.87047276e-02,  5.86448424e-02,  1.31603265e-02,\n",
       "        1.02102876e-01, -5.55736246e-03,  2.73784455e-02, -3.62028629e-02,\n",
       "       -3.29601869e-04, -3.19109932e-02, -1.60153300e-01,  1.19796023e-02,\n",
       "        2.25960854e-02,  4.50088345e-02,  2.28600856e-02, -4.69259657e-02,\n",
       "       -1.34307556e-02, -8.66777170e-03,  3.07024736e-02, -2.01099634e-01,\n",
       "       -4.05873954e-02, -8.37323368e-02, -3.87103781e-02,  3.30568850e-02,\n",
       "        4.69281860e-02,  2.57271249e-03,  1.60394199e-02, -4.38962393e-02,\n",
       "       -3.43868136e-02, -3.94449607e-02,  4.27506417e-02, -1.29858106e-01,\n",
       "        6.75656879e-03, -5.66430613e-02,  8.41589049e-02,  3.36703546e-02,\n",
       "        5.02995066e-02,  5.33413775e-02, -2.43730340e-02, -1.97047256e-02,\n",
       "        7.24557787e-03,  8.03765580e-02,  6.28155768e-02,  1.61374472e-02,\n",
       "       -1.30263409e-02,  5.13106920e-02, -4.94098105e-02,  9.16450024e-02,\n",
       "        1.07881747e-01, -9.27466005e-02, -3.46034504e-02, -6.82766661e-02,\n",
       "       -6.40419722e-02, -4.34158370e-02,  8.48801211e-02, -6.24874942e-02,\n",
       "        5.96580096e-02, -7.64736487e-03, -1.05828553e-01,  1.63938645e-02,\n",
       "       -4.16886210e-02, -6.45772144e-02,  2.44569592e-02,  6.15794249e-02,\n",
       "       -6.11573979e-02,  1.20716700e-02,  4.89861295e-02,  1.62703153e-02,\n",
       "        1.98109765e-02, -7.42265061e-02, -7.75685608e-02,  2.52028666e-02,\n",
       "       -6.79287538e-02,  6.12068549e-02,  3.69390473e-02, -3.42657343e-02,\n",
       "        4.37963232e-02,  1.00955993e-01,  5.68959378e-02, -8.20792466e-02,\n",
       "        2.38695461e-02, -2.60626376e-02,  8.27272534e-02,  3.99633357e-03,\n",
       "       -5.93331940e-02, -6.05480187e-02, -7.08920360e-02,  7.58476704e-02,\n",
       "       -4.11939919e-02,  3.71478163e-02, -8.55538249e-02, -2.83146147e-02,\n",
       "        6.12939801e-03, -6.20462699e-03,  4.96541038e-02, -1.75646394e-02,\n",
       "        1.64041517e-03,  2.12184023e-02,  6.02987595e-03, -4.53525297e-02,\n",
       "       -1.87438782e-02,  1.53570876e-01, -2.23218985e-02, -2.80106086e-02,\n",
       "        4.69741486e-02,  1.85681577e-03, -5.78171834e-02,  1.35811254e-01,\n",
       "        7.49252960e-02,  1.28648058e-01,  1.00152187e-01,  3.75337191e-02,\n",
       "        1.11739509e-01, -3.14258039e-02,  5.51104881e-02,  4.20242995e-02],\n",
       "      dtype=float32)"
      ]
     },
     "execution_count": 13,
     "metadata": {},
     "output_type": "execute_result"
    }
   ],
   "source": [
    "Z = model.wv.syn0\n",
    "print(Z[0].shape)\n",
    "Z[0]"
   ]
  },
  {
   "cell_type": "code",
   "execution_count": null,
   "metadata": {},
   "outputs": [],
   "source": []
  }
 ],
 "metadata": {
  "kernelspec": {
   "display_name": "Python 3",
   "language": "python",
   "name": "python3"
  },
  "language_info": {
   "codemirror_mode": {
    "name": "ipython",
    "version": 3
   },
   "file_extension": ".py",
   "mimetype": "text/x-python",
   "name": "python",
   "nbconvert_exporter": "python",
   "pygments_lexer": "ipython3",
   "version": "3.8.2"
  }
 },
 "nbformat": 4,
 "nbformat_minor": 4
}
