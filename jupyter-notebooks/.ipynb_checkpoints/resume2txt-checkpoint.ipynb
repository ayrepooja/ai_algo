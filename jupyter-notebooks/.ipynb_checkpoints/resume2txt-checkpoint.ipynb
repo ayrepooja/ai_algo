{
 "cells": [
  {
   "cell_type": "code",
   "execution_count": 48,
   "metadata": {
    "colab": {},
    "colab_type": "code",
    "id": "V3BCrtpRDjLe"
   },
   "outputs": [],
   "source": [
    "# !pip install PyPDF2\n",
    "# !pip install doc2text\n",
    "# !pip install textract\n",
    "# !apt-get install python-dev libxml2-dev libxslt1-dev antiword unrtf poppler-utils pstotext tesseract-ocr \\\n",
    "# flac ffmpeg lame libmad0 libsox-fmt-mp3 sox libjpeg-dev swig\n",
    "# !pip install -U nltk\n",
    "# !pip install wget\n",
    "# !wget -c \"https://s3.amazonaws.com/dl4j-distribution/GoogleNews-vectors-negative300.bin.gz\"\n",
    "# !pip install matplotlib\n",
    "# !pip install pandas\n",
    "# !pip install wordcloud"
   ]
  },
  {
   "cell_type": "code",
   "execution_count": 1,
   "metadata": {
    "colab": {},
    "colab_type": "code",
    "id": "eAhqOLDhDYaO"
   },
   "outputs": [],
   "source": [
    "import os\n",
    "import doc2text\n",
    "import textract\n",
    "import docx"
   ]
  },
  {
   "cell_type": "code",
   "execution_count": 3,
   "metadata": {
    "colab": {},
    "colab_type": "code",
    "id": "9jNjyqubDYaZ"
   },
   "outputs": [],
   "source": [
    "projectDir = '/home/manojmenpadi/Documents/Soft Computing/Extraction of Skills/'\n",
    "resumeDir = projectDir + 'data/raw_resume/'"
   ]
  },
  {
   "cell_type": "code",
   "execution_count": 4,
   "metadata": {},
   "outputs": [],
   "source": [
    "from pdfminer3.layout import LAParams, LTTextBox\n",
    "from pdfminer3.pdfpage import PDFPage\n",
    "from pdfminer3.pdfinterp import PDFResourceManager\n",
    "from pdfminer3.pdfinterp import PDFPageInterpreter\n",
    "from pdfminer3.converter import PDFPageAggregator\n",
    "from pdfminer3.converter import TextConverter\n",
    "import io\n",
    "\n",
    "def convert_pdf_to_txt(path):\n",
    "    resource_manager = PDFResourceManager()\n",
    "    fake_file_handle = io.StringIO()\n",
    "    converter = TextConverter(resource_manager, fake_file_handle, laparams=LAParams())\n",
    "    page_interpreter = PDFPageInterpreter(resource_manager, converter)\n",
    "\n",
    "    with open(path, 'rb') as fh:\n",
    "\n",
    "        for page in PDFPage.get_pages(fh,\n",
    "                                      caching=True,\n",
    "                                      check_extractable=True):\n",
    "            page_interpreter.process_page(page)\n",
    "\n",
    "        text = fake_file_handle.getvalue()\n",
    "\n",
    "    # close open handles\n",
    "    converter.close()\n",
    "    fake_file_handle.close()\n",
    "\n",
    "    return text"
   ]
  },
  {
   "cell_type": "code",
   "execution_count": 5,
   "metadata": {
    "colab": {},
    "colab_type": "code",
    "id": "Z79KGAY6DYad",
    "scrolled": true
   },
   "outputs": [
    {
     "name": "stdout",
     "output_type": "stream",
     "text": [
      "Error reading .doc file :Tricor_Pui San Lim_Financial Controller.doc\n",
      "Error reading .doc file :Accel Corporate_Angeline Lee_Cosec AM.doc\n",
      "Error reading .doc file :Flights Centre_Elizabeth_Tan_Accounts Exec.doc\n",
      "Error reading .doc file :PWC_Jiehan Yang_Senior Audit Associate.doc\n",
      "Error reading .doc file :Pte Coy_LIECHIAN LIM_Cosec Exec.doc\n",
      "Error reading .doc file :Intertrust_ShiHwee Tan_Cosec Exec.doc\n",
      "Error reading .doc file :Deloitte_Wendy Wong_Cosec Manager.doc\n",
      "Error reading .doc file :Diagraph_Ng Sook Yen_FM.doc\n",
      "Error reading .doc file :Mapletree_Kenny Yong_VP Finance.doc\n",
      "Error reading .doc file :Nexia_Darryl Davidson_Audit Associate.doc\n",
      "Error reading .doc file :Kong Lim & Partners_Brinal_Lau_Audit Semi Senior.doc\n",
      "Error reading .doc file :Singtel_Zhiwei Tan_FM.doc\n",
      "Error reading .doc file :M&C_LeaKoon Gan_AM.doc\n",
      "Error reading .doc file :Xander_Brandon Tan_Finance Exec.doc\n",
      "Error reading .doc file :CDL_Tang SuYen_Cosec AM.doc\n",
      "Error reading .doc file :PCI_Siow Yen Yuen_Accounting Mgr.doc\n",
      "Error reading .doc file :Fitters_Soo Boo Keong_FM.doc\n",
      "Error reading .doc file :KWTH_Tedric_Li_Audit Assistant.doc\n",
      "Error reading .doc file :Hawksford_Guojie Lim_Accounts Exec.doc\n",
      "Error reading .doc file :Lim & Tan Securities_GuoYing Lee_Finance Officer.doc\n",
      "Error reading .doc file :Jenmon_Tham Jie Min_Accounts Asst.doc\n",
      "Error reading .doc file :Orange Grove_Mei Foong Chean_Finance Manager.doc\n",
      "Error reading .doc file :Fun Corporation_Jacklyn Fan_Finance Director.doc\n",
      "Error reading .doc file :Seal Asia_Ong Xin Yi_Senior Accountant.doc\n",
      "Error reading .doc file :Stephenson Hardwood_Jacqueline Diller_FM.doc\n",
      "Error reading .doc file :Changi Airport_Xiao Ting Huang_Sr FM.doc\n",
      "Error reading .doc file :Intertrust_Jasmine Lai_Cosec Associate.doc\n",
      "Error reading .doc file :Venture Corp_Claire Lee_Senior Cosec Exec.doc\n",
      "Error reading .doc file :Corp Mgmt_LEE PEKYAN_Cosec Assistant Supervisor.doc\n",
      "Error reading .doc file :Asiaciti_HuiLing Ng_Cosec Officer.doc\n",
      "Error reading .doc file :CA Trust_Sharan_Sivarajoo_Audit Associate.doc\n",
      "Error reading .doc file :Loo & Partners_MinWhui Wong_Cosec Exec.doc\n",
      "Error reading .doc file :IBIS_Jan Tan_Accounts Exec.doc\n",
      "Error reading .doc file :Vistra_Dalilah_Ahmad_Cosec Exec.doc\n",
      "Error reading .doc file :ACT Management_Shehlee NG_EA.doc\n",
      "Error reading .doc file :RSM_Elaine Lim_Audit Manager.doc\n",
      "Error reading .doc file :Reanda Adept_Azwan Amran_Audit Assistant.doc\n",
      "Error reading .doc file :PWC_Andrew Chua_Senior Audit Associate.doc\n",
      "Error reading .doc file :Genting_YinYin Cheong_Senior Cosec Exec.doc\n",
      "Error reading .doc file :UOB_Kenny See_Fund Accountant.doc\n",
      "Error reading .doc file :SAP_Huey Ling Cheong_FM.doc\n",
      "Error reading .doc file :KPMG_Han Xiao Tan_Finance Manager.doc\n",
      "Error reading .doc file :Masai_Andrew Chua_Accounts Exec.doc\n",
      "Error reading .doc file :EY_Songyao Goh_Audit Senior 2.doc\n",
      "Error reading .doc file :Allen & Gledhil._Lim Han Yeong_Cosec AM.doc\n",
      "Error reading .doc file :HSBC_Neshani Samarasinghe_Fund Administrator.doc\n",
      "Error reading .doc file :Furama_Winnie Cheng_Accounts Exec.doc\n",
      "Error reading .doc file :Aberdeen_Magdalene Yow_Finance Manager.doc\n",
      "Error reading .doc file :Universal Trustee_Mohd Faiz_Trust Officer.doc\n",
      "Error reading .doc file :Audit_Veronica Sinco_Cosec Exec.doc\n",
      "Error reading .doc file :Renewable Energy_Siew Kiat Tan_Group FM.doc\n",
      "Error reading .doc file :Dearsir Mgmt_Murali Mahendran_Accounts Exec.doc\n",
      "Error reading .doc file :Tricor_Pay Lee Lee_Manager.doc\n",
      "Error reading .doc file :EY_WeeKiat Ng_Audit Senior Associate.doc\n",
      "Error reading .doc file :Sentury_Tanyaporn_Assistant HR Manager.doc\n",
      "Error reading .doc file :Silverlake_Gemini Carandang_FM.doc\n",
      "Error reading .doc file :Cmarkets_Amalina Mazlan_Cosec Exec.doc\n",
      "Error reading .doc file :DBS_Cheryl Lee_PC.doc\n",
      "Error reading .doc file :YBH Audit_Shirin Mahal_Accounts Audit Exec.doc\n",
      "Error reading .doc file :REIT_Khong Mee Hong_Cosec Sr Mgr.doc\n",
      "Error reading .doc file :Ecovis Assurance_Berenice_Phang_Audit Associate.doc\n",
      "Error reading .doc file :Banyan Tree_Pricillia Chan_Accounts Exec.doc\n",
      "Error reading .doc file :ST Synthesis_Joanne Seng_AP.doc\n",
      "Error reading .doc file :Savills_Wong Meng Lin_Accounts Officer.doc\n",
      "Error reading .doc file :OCRA_Kyra Tang_Cosec Exec.doc\n",
      "Error reading .doc file :PWC_Evelyn Ng_Audit Manager.doc\n",
      "Error reading .doc file :Mapletree Inv_Nicole Kam_Sr Accountant.doc\n",
      "Error reading .doc file :FTMS_ChaiXian_Chia_Cosec AM.doc\n",
      "Error reading .doc file :ARA AM_Joel Leong_Finance Exec.doc\n",
      "Error reading .doc file :Huntsman_Hui Shan Ng_Sr Accountant.doc\n",
      "Error reading .doc file :Tricor_Mavis_Chong_Cosec AM.doc\n",
      "Error reading .doc file :Rajah & Tann_Jonathan Heng_Cosec.doc\n",
      "Error reading .doc file :ICBC_MingZhou Chua_Assistant Compliance Officer.doc\n",
      "Error reading .doc file :Drewcorp_Himani Sharma_Cosec Exec.doc\n",
      "Error reading .doc file :Goodwood Park_Kaydence Neo_Accounts Asst.doc\n",
      "Error reading .doc file :Ogilvy_ShiHui Low_Finance Exec.doc\n",
      "Error reading .doc file :Southbridge Hotel_Tina Chau_Accounts Assistant.doc\n",
      "Error reading .doc file :Ewart_Chee Yong Ling_FM.doc\n",
      "Error reading .doc file :EY_Kwang Yong Chee_Audit Senior.doc\n",
      "Error reading .doc file :RSM_Sean Lean Yeo_Audit Manager.doc\n",
      "Error reading .doc file :Premier Corp_Jazreel Soh_Accounts Asst.doc\n",
      "Error reading .doc file :Apex_Fern Siang Gan_Sr Fund Acc.doc\n",
      "Error reading .doc file :EY_Sam Poh_Audit Senior Associate.doc\n",
      "Error reading .doc file :Allen & Gledhill_Ellyn Lim_Assistant Manager.doc\n",
      "Error reading .doc file :Aviva_Elaine Cheah_Assistant FM.doc\n",
      "Error reading .doc file :10Jonas.doc\n",
      "Error reading .doc file :PWC_XingRong Choo_Audit Manager.doc\n",
      "Error reading .doc file :Trusted Source_EkJun Goh_Finance Officer.doc\n",
      "Error reading .doc file :Jardine Cycle_ShuYi Yap_Cosec Exec.doc\n",
      "Error reading .doc file :Allen & Gledhill_Jenn Wai Liow_Cosec AM.doc\n",
      "Error reading .doc file :Acc Coy_Esther Hong Lei_Sr Accountant.doc\n",
      "Error reading .doc file :Chang Cheng_Teo Rong Hua_Accounts Officer.doc\n",
      "Error reading .doc file :NYK Group_Stanley Ong_Accounts Exec.doc\n",
      "Error reading .doc file :Camella Communities_Cynthia Nasibog_Sr Accountant.doc\n",
      "Error reading .doc file :Zest Group_Sie Pei Yee_FM.doc\n",
      "Error reading .doc file :Fastcorp_Nisah Rahim_Cosec Exec.doc\n",
      "Error reading .doc file :UOB_Kittisak Tiraworachai_Loan Specialist.doc\n",
      "Error reading .doc file :DBS Venture_Marilyn_Chia_AR Assistant.doc\n",
      "Error reading .doc file :Tricor_Shu Phooi Koay_Senior Cosec.doc\n",
      "Error reading .doc file :Partners_Phillip Su_Fund Accountant.doc\n",
      "Error reading .doc file :Keppel Bay_Bao Yi Wong_Asst Accounts Officer.doc\n",
      "Error reading .doc file :Singcon_ZHANG ZE_Sr Account Exec.doc\n",
      "Error reading .doc file :CapitaMall_Chiew Ching Wee_Senior Finance Exec.doc\n",
      "Error reading .doc file :Market Probe_Zenda Tan_Research Analyst.doc\n",
      "Error reading .doc file :SCB_HweeKoon Ong_Legal Counsel.doc\n",
      "Error reading .doc file :Boardroom_Cai Wen_Cosec Supervisor.doc\n",
      "Error reading .doc file :Rowsley_Genevieve Ho_Sr Cosec.doc\n",
      "Error reading .doc file :TMF_Ng Wei_Accounts Exec.doc\n",
      "Error reading .doc file :Vistra_John Pang_Senior Cosec.doc\n",
      "Error reading .doc file :Lim & Tan Securities_Angeline Tee_Finance Officer.doc\n",
      "Error reading .doc file :Trident Trust_Shona Chacko_Accounts Officer.doc\n",
      "Error reading .doc file :MSIG_Teng Whye Leong_FM.doc\n",
      "Error reading .doc file :Can Traders_Jiayin Kwek_Account Exec.doc\n",
      "Error reading .doc file :Tricor_Janice Chan_Cosec.doc\n",
      "Error reading .doc file :Pan Pacific_May Chew_Accounts Exec.doc\n",
      "Error reading .doc file :PWC_Fey Mun Kwan_Audit Senior.doc\n",
      "Error reading .doc file :OUE_Rina Lee_Sr FM.doc\n",
      "Error reading .doc file :RC Hotels_Anthony Ang_Accounts Exec.doc\n",
      "Error reading .doc file :3e Accounting_Crystal Tia_Cosec.doc\n",
      "Error reading .doc file :Stone Forest_Haowei Choo_Account Senior.doc\n",
      "Error reading .doc file :Maritime & Port_Siti Amira_Finance Officer.doc\n",
      "Error reading .doc file :BMI Acc_Samantha Wong_Accountant.doc\n",
      "Error reading .doc file :Ward Ferry_Becky Yeung_Asst FM.doc\n",
      "Error reading .doc file :Infinitus Law_Diana Ramli_Cosec.doc\n",
      "Error reading .doc file :A1698579.doc\n",
      "Error reading .doc file :Regent Hotel_Nur_Zhafarina_Accounts Asst.doc\n",
      "Error reading .doc file :BSH Secretarial_Fairoza Begum_Cosec Senior.doc\n",
      "Error reading .doc file :OCBC_DERRICK LIM_Financial Consultant.doc\n"
     ]
    },
    {
     "name": "stdout",
     "output_type": "stream",
     "text": [
      "Error reading .doc file :Tokio Marine_YueNing Lee_Assistant Accounts Exec.doc\n",
      "Error reading .doc file :MC Corp_Michelle Ocampo_Cosec Exec.doc\n",
      "Error reading .doc file :Farmland Inv_Lian Hui Ler_Acountant.doc\n",
      "Error reading .doc file :Precursor Assurance_Samantha Pang_Audit Associate.doc\n",
      "Error reading .doc file :J B Boda_Terence Lee_Acc Exec.doc\n",
      "Error reading .doc file :Grabtaxi_Han Chih Kwong_Regional Cosec.doc\n",
      "Error reading .doc file :Possible Worldwide_Bryan Soo_FM.doc\n",
      "Error reading .doc file :Nine Rivers_Jeff Li_Equity Research Analyst.doc\n",
      "Error reading .doc file :Vistra_Cheryl Zhang_Cosec Exec.doc\n",
      "Error reading .doc file :PWC_Vigneshwaran S_Audit Intern.doc\n",
      "Error reading .doc file :Aberdeen_Jonathan Pan_Compliance Officer.doc\n",
      "Error reading .doc file :Realstar_Tiffany Chor_Accounts Exec.doc\n",
      "Error reading .doc file :KPMG_Chee Siong Lay_Audit Senior Associate.doc\n",
      "Error reading .doc file :Rawlinson Hunter_Huda_Sa'ad_Cosec Manager.doc\n",
      "Error reading .doc file :Mazars_Jephtath Chia_Audit Assistant.doc\n",
      "Error reading .doc file :Hawksford_Vincent Cheng_Cosec Associate.doc\n",
      "Error reading .doc file :Tristtar_Emily Tan_Exec.doc\n",
      "Error reading .doc file :Toll Logistics_Evin Lim_Cosec Exec.doc\n",
      "Error reading .doc file :RBS_Ulric 0Yeo_Legal Counsel.doc\n",
      "Error reading .doc file :Sarafield_Mason Lau_Finance Manager.doc\n",
      "Error reading .doc file :Hawksford_Phyllis Zhang_Cosec Exec.doc\n"
     ]
    }
   ],
   "source": [
    "resumeTxt = []\n",
    "for filename in os.listdir(resumeDir):\n",
    "    if(filename.endswith(\".pdf\")):\n",
    "        try:\n",
    "            resumeTxt.append(convert_pdf_to_txt(resumeDir+filename))\n",
    "        except Exception:\n",
    "            print('Error reading .pdf file' + filename)\n",
    "    if(filename.endswith(\".docx\")):\n",
    "        try:\n",
    "            doc = docx.Document(resumeDir + filename)\n",
    "            data = \"\"\n",
    "            fullText = []\n",
    "            for para in doc.paragraphs:\n",
    "                fullText.append(para.text)\n",
    "                data = '\\n'.join(fullText)\n",
    "            resumeTxt.append(data)\n",
    "        except IOError:\n",
    "            print('Error reading .docx file' + filename)\n",
    "    if(filename.endswith(\".doc\")):\n",
    "        try:\n",
    "            text = textract.process(resumeDir+filename).decode('utf-8')     \n",
    "            resumeTxt.append(text)\n",
    "        except Exception:\n",
    "            print('Error reading .doc file :' + filename)"
   ]
  },
  {
   "cell_type": "code",
   "execution_count": 6,
   "metadata": {
    "colab": {
     "base_uri": "https://localhost:8080/",
     "height": 34
    },
    "colab_type": "code",
    "executionInfo": {
     "elapsed": 2344,
     "status": "ok",
     "timestamp": 1588000808733,
     "user": {
      "displayName": "Manoj Menpadi",
      "photoUrl": "https://lh3.googleusercontent.com/a-/AOh14GiGtNw3-bTgBrhXrirgJX9INIi3Wkzok4Bh8Tctbw=s64",
      "userId": "07706718289722790250"
     },
     "user_tz": -330
    },
    "id": "PLzjhNOIDYah",
    "outputId": "8ad361b7-5afa-4601-f7be-577e158b5575"
   },
   "outputs": [
    {
     "data": {
      "text/plain": [
       "2116"
      ]
     },
     "execution_count": 6,
     "metadata": {},
     "output_type": "execute_result"
    }
   ],
   "source": [
    "len(resumeTxt)"
   ]
  },
  {
   "cell_type": "code",
   "execution_count": 7,
   "metadata": {
    "colab": {},
    "colab_type": "code",
    "id": "rYDo-qJuDYal"
   },
   "outputs": [
    {
     "name": "stdout",
     "output_type": "stream",
     "text": [
      "Manas PandA\n",
      "(Singapore PR)\n",
      "Mobile # +65-97810650\n",
      "Email ID:- \n",
      "\n",
      "Professional with 14 years experience in financial and management accounting, financial Planning & analysis, payroll, reporting and control. Adept at problem solving, meeting with tight deadlines and producing quality work under pressure. Possess good knowledge in the use of professional finance software. \n",
      "\t\t\t\t\t\t\t\n",
      "Expertise in domains of Operational Accounting & Finance, budgeting, forecasting, financial planning & analysis, Taxation, Audit, Team management and Service standards for business excellence.\n",
      "Managing & Controlling for Account Closing such as Monthly, Quarterly, Annual Closing. Also handled allocations, translations and consolidations of multiple entities globally. \n",
      "Expertise in Payroll processing and accounting with 100% compliances to statutory payments.    \n",
      "Preparation of all financial Reports, Including Profit Loss Statement, Balance sheet, Statement of cash flows, as well as yearend financial reports.\n",
      "Expertise in Revenue accounting under various billing model.(Time and material, fixed bid, cost plus mark-up). \n",
      "Analysis of Financial statements, financial Planning & analysis, Ratio analysis & Variance analysis and provided timely explanations and corrective actions as appropriate.\n",
      "major Achievements\n",
      "Successfully migrated from People Soft to Oracle for Dell finance department for uniformly using a single platform (When Dell acquired Perot Systems Corporation).\n",
      "Successfully migrated from JDE Ed-ward to People Soft for Perot Systems Corporation finance for a single platform usage (When Perot Systems Corporations acquired HCL Perot Systems).\n",
      "Streamlined the process Accounts Payable, General Accounting and payroll processing within the time line provided.\n",
      "Successfully transitioned the APAC payroll system to Dell Penang. \n",
      "Ensured 100% compliance to all statutory requirements.  \n",
      "Facilitated long term projection to EDB (Economic Development Board) and achieved significant tax benefits from Government. (Tax reduction from 17% to 10%).  \n",
      "Drove various Audit Assignments (Statutory\\Internal\\Tax) for both Local GAAP and US GAAP simultaneously for multiple entities including manufacturing unit and finalized GAAP adjustments.\n",
      "\n",
      "Dell Software Singapore Pte Ltd formerly known as Quest (Singapore) Pte Ltd. (JUNE 2013 – July 2016) - ACCOUNTING & Payroll Advisor in Singapore \n",
      "Responsibilities\t\n",
      "Responsible for Managing Payroll processing and Accounting in APAC region interface with Automatic Data Processing Ltd.\n",
      "Preparation of all Payroll statutory reporting/Payroll Annual Audit (engaged with Deloitte) /Government surveys/Payroll projects and all day to day transaction and attending all employee day to day queries.\n",
      "Responsible for Audit Assignments with (PWC) for Dell Services Pte Ltd (Statutory\\Internal\\Tax) for both Local GAAP and US GAAP simultaneously for multiple entities including manufacturing unit and responsible for finalization of GAAP adjustments.\n",
      "Holds the distinction of being conversant with Accounts Preparation and Finalization as per general accepted accounting principles\n",
      "\n",
      "Dell Services Pte Ltd Formerly known as Perot Systems (Singapore) Pte Ltd. (MAY 2004 – May 2013) -   accounting Advisor & Asia Controller\n",
      "Responsibilities \n",
      "Responsible for Accounts Payable/Receivable, General Accounting, financial planning & analysis in APAC region. \n",
      "Maintaining books of account for APAC region, Payroll checking & reconciliation, disbursement and statutory payment for APAC region.\n",
      "Accountable for month end activities i.e. Accounts Payable, General Accounting, budgeting, forecasting, Asset Management and Bank reconciliation includes Restatements also.\n",
      " Preparation of local statutory returns i.e. GST/PAYROLL Tax / Services Tax & CPF returns are submitted in local statutory board within stipulated period to avoid no compliances. \n",
      "Audit Engagement with (PWC) - Preparation of Balance sheet Schedules, Consolidation of Trial Balance, and Grouping, and financial & variation analysis.\n",
      " Coordination with onsite/offshore associates, Project manager with respect to 100% revenue recognition and employee related disbursements.\n",
      "Contribution towards organizational initiatives (e.g. Knowledge of Sox Compliance)\n",
      "Communication with all the associates to ensure that company policies and compliances are followed.\n",
      "\n",
      "HCL Perot Systems, India (April 2002 – April 2004) - Finance associate \n",
      "Responsibilities \n",
      "Responsible for Book Keeping for APAC region, Month-End Closure of Books of Accounts involving Provisioning of various Direct & Indirect Expenses, Bank reconciliations, Revenue recognition and Invoicing for UBS (Union Bank of Switzerland) one of the Principal Clients of Companies, Estimation of Monthly Revenue Accrual/summary to be circulated to the onsite managers & senior management in India and APAC.\n",
      "Assistance in preparation of Payroll/Employee Tax computation/CPF and employee tax filing. \n",
      "Responsible for Inter Company Accounts reconciliations in Asia-Pacific with principal entity in India.\n",
      "Offshore Audit Support for APAC region involving preparation of various Schedules to be attached with Balance Sheet & Profit & Loss Account of concerned entity & assisting in final audit of APAC-Malaysia entity which annual audit was performed in India\n",
      "M/S STANDARD CARTONS PVT. LTD.  (August 1999 – March 2002) - Sr. Accountant in India\n",
      "Responsibilities \n",
      "Control & Supervision of day-to-day financial transaction, taking care India Sales Tax, Income Tax, Registered of Company, and Employees State Insurance Corporation & Employees Provident Funds.\n",
      "Projection of Company Results for the purposes of applying for loan with Banks and handling of Treasury related activities & Monthly Reconciliation of Banks. \n",
      "Responsible for annual Statutory Audits, Finalization of Balance Sheet & Profit & Loss Accounts.\n",
      "Liaising with Suppliers & Dealers to ensure companies policies had been followed and SOX compliances were taken care of. \n",
      "\n",
      "M/S REPRO OFFSET INDIA PVT. LTD.  (July 1998 – May 1999)  - Accountant\n",
      "Responsibilities\n",
      "Control & Supervision of Day-to-Day Financial Transaction, Payroll processing, Projection of Company Results for the purposes of applying Loan for bank overdraft, Treasury related activities and bank reconciliations.\n",
      "Responsible for annual Statutory Audits, Finalization of Balance Sheet & Profit & Loss Accounts.\n",
      "Responsible for local taxes preparation and submitted to Government.\n",
      "\n",
      "M/S GENESIS (August 1993 – JUNE 1998) - Accountant\n",
      "Job Profile\t\t\t\t\n",
      " Assisting in day-to-day financial transaction, bank reconciliations, supporting annual audit and taking care of Sales Tax. \n",
      "Manual Payroll processing and Accounting.\n",
      "Professional Training AND EDUCATION\n",
      "Bachelor of commerce - Accounting and Finance, UTKAL University India.\n",
      "Master of Business Administration (MBA) – Finance, Punjab Technical University-India.\n",
      "Diploma in Computer application – Financial Accounting in 1995, Including Tally.\n",
      "Diploma in SAP–ERP (Finance & Controlling) systems-I have completed a course in SAP R/3 in FICO and worked in different applications in area of Finance. My exposure includes General ledger, Accounts Payable/Receivables- Webcom Technologies. \n",
      "Possess strong analytical and communication skills-British Council.\n",
      "Key ACCOMPLISHMENTS:\n",
      "Consecutive three Silver award winners Q2 FY 11, Q2 FY12 and Q1 FY14.\n",
      "Have successfully completed local and International entity Liquidations and strike off. \n"
     ]
    }
   ],
   "source": [
    "print(resumeTxt[0])"
   ]
  },
  {
   "cell_type": "code",
   "execution_count": 8,
   "metadata": {
    "colab": {},
    "colab_type": "code",
    "id": "VK2JPIDcDYaq"
   },
   "outputs": [],
   "source": [
    "from nltk.corpus import stopwords\n",
    "sw = set(stopwords.words('english'))"
   ]
  },
  {
   "cell_type": "code",
   "execution_count": 9,
   "metadata": {
    "colab": {},
    "colab_type": "code",
    "id": "nXyx2sIxDYaw"
   },
   "outputs": [],
   "source": [
    "resumeTxtNoStopword = []\n",
    "\n",
    "for resume in resumeTxt:\n",
    "    text = resume\n",
    "    text = text.split()\n",
    "    useful_words = [w for w in text if w not in sw]\n",
    "    resumeTxtNoStopword.append(\" \".join(useful_words))"
   ]
  },
  {
   "cell_type": "code",
   "execution_count": 10,
   "metadata": {
    "colab": {
     "base_uri": "https://localhost:8080/",
     "height": 34
    },
    "colab_type": "code",
    "executionInfo": {
     "elapsed": 638,
     "status": "ok",
     "timestamp": 1588001345731,
     "user": {
      "displayName": "Manoj Menpadi",
      "photoUrl": "https://lh3.googleusercontent.com/a-/AOh14GiGtNw3-bTgBrhXrirgJX9INIi3Wkzok4Bh8Tctbw=s64",
      "userId": "07706718289722790250"
     },
     "user_tz": -330
    },
    "id": "QBqj5mGLDYa0",
    "outputId": "e28b50b4-5d66-4756-ad84-664932ffea32"
   },
   "outputs": [
    {
     "data": {
      "text/plain": [
       "2116"
      ]
     },
     "execution_count": 10,
     "metadata": {},
     "output_type": "execute_result"
    }
   ],
   "source": [
    "len(resumeTxtNoStopword)"
   ]
  },
  {
   "cell_type": "code",
   "execution_count": 11,
   "metadata": {
    "colab": {},
    "colab_type": "code",
    "id": "pABSa-dhDYbL"
   },
   "outputs": [],
   "source": [
    "import re\n",
    "def tokenize(text):\n",
    "    # obtains tokens with a least 1 alphabet\n",
    "    pattern = re.compile(r'[A-Za-z]+[\\w^\\']*|[\\w^\\']*[A-Za-z]+[\\w^\\']*')\n",
    "    return pattern.findall(text.lower())"
   ]
  },
  {
   "cell_type": "code",
   "execution_count": 12,
   "metadata": {
    "colab": {},
    "colab_type": "code",
    "id": "T8g4rY_tDYbO"
   },
   "outputs": [],
   "source": [
    "i = 0\n",
    "tokenized_resumes = []\n",
    "for resume in resumeTxtNoStopword:\n",
    "    r = tokenize(resume)\n",
    "    tokenized_resumes.append(r)\n",
    "    i += 1"
   ]
  },
  {
   "cell_type": "code",
   "execution_count": 13,
   "metadata": {
    "colab": {
     "base_uri": "https://localhost:8080/",
     "height": 54
    },
    "colab_type": "code",
    "executionInfo": {
     "elapsed": 2111,
     "status": "ok",
     "timestamp": 1588002325935,
     "user": {
      "displayName": "Manoj Menpadi",
      "photoUrl": "https://lh3.googleusercontent.com/a-/AOh14GiGtNw3-bTgBrhXrirgJX9INIi3Wkzok4Bh8Tctbw=s64",
      "userId": "07706718289722790250"
     },
     "user_tz": -330
    },
    "id": "dym-JaqGDYbS",
    "outputId": "733f3a4d-2006-4165-85d9-7c45b9869c97"
   },
   "outputs": [
    {
     "name": "stdout",
     "output_type": "stream",
     "text": [
      "[['manas', 'panda', 'singapore', 'pr', 'mobile', 'email', 'id', 'professional', 'years', 'experience', 'financial', 'management', 'accounting', 'financial', 'planning', 'analysis', 'payroll', 'reporting', 'control', 'adept', 'problem', 'solving', 'meeting', 'tight', 'deadlines', 'producing', 'quality', 'work', 'pressure', 'possess', 'good', 'knowledge', 'use', 'professional', 'finance', 'software', 'expertise', 'domains', 'operational', 'accounting', 'finance', 'budgeting', 'forecasting', 'financial', 'planning', 'analysis', 'taxation', 'audit', 'team', 'management', 'service', 'standards', 'business', 'excellence', 'managing', 'controlling', 'account', 'closing', 'monthly', 'quarterly', 'annual', 'closing', 'also', 'handled', 'allocations', 'translations', 'consolidations', 'multiple', 'entities', 'globally', 'expertise', 'payroll', 'processing', 'accounting', 'compliances', 'statutory', 'payments', 'preparation', 'financial', 'reports', 'including', 'profit', 'loss', 'statement', 'balance', 'sheet', 'statement', 'cash', 'flows', 'well', 'yearend', 'financial', 'reports', 'expertise', 'revenue', 'accounting', 'various', 'billing', 'model', 'time', 'material', 'fixed', 'bid', 'cost', 'plus', 'mark', 'up', 'analysis', 'financial', 'statements', 'financial', 'planning', 'analysis', 'ratio', 'analysis', 'variance', 'analysis', 'provided', 'timely', 'explanations', 'corrective', 'actions', 'appropriate', 'major', 'achievements', 'successfully', 'migrated', 'people', 'soft', 'oracle', 'dell', 'finance', 'department', 'uniformly', 'using', 'single', 'platform', 'when', 'dell', 'acquired', 'perot', 'systems', 'corporation', 'successfully', 'migrated', 'jde', 'ed', 'ward', 'people', 'soft', 'perot', 'systems', 'corporation', 'finance', 'single', 'platform', 'usage', 'when', 'perot', 'systems', 'corporations', 'acquired', 'hcl', 'perot', 'systems', 'streamlined', 'process', 'accounts', 'payable', 'general', 'accounting', 'payroll', 'processing', 'within', 'time', 'line', 'provided', 'successfully', 'transitioned', 'apac', 'payroll', 'system', 'dell', 'penang', 'ensured', 'compliance', 'statutory', 'requirements', 'facilitated', 'long', 'term', 'projection', 'edb', 'economic', 'development', 'board', 'achieved', 'significant', 'tax', 'benefits', 'government', 'tax', 'reduction', 'drove', 'various', 'audit', 'assignments', 'statutory', 'internal', 'tax', 'local', 'gaap', 'us', 'gaap', 'simultaneously', 'multiple', 'entities', 'including', 'manufacturing', 'unit', 'finalized', 'gaap', 'adjustments', 'dell', 'software', 'singapore', 'pte', 'ltd', 'formerly', 'known', 'quest', 'singapore', 'pte', 'ltd', 'june', 'july', 'accounting', 'payroll', 'advisor', 'singapore', 'responsibilities', 'responsible', 'managing', 'payroll', 'processing', 'accounting', 'apac', 'region', 'interface', 'automatic', 'data', 'processing', 'ltd', 'preparation', 'payroll', 'statutory', 'reporting', 'payroll', 'annual', 'audit', 'engaged', 'deloitte', 'government', 'surveys', 'payroll', 'projects', 'day', 'day', 'transaction', 'attending', 'employee', 'day', 'day', 'queries', 'responsible', 'audit', 'assignments', 'pwc', 'dell', 'services', 'pte', 'ltd', 'statutory', 'internal', 'tax', 'local', 'gaap', 'us', 'gaap', 'simultaneously', 'multiple', 'entities', 'including', 'manufacturing', 'unit', 'responsible', 'finalization', 'gaap', 'adjustments', 'holds', 'distinction', 'conversant', 'accounts', 'preparation', 'finalization', 'per', 'general', 'accepted', 'accounting', 'principles', 'dell', 'services', 'pte', 'ltd', 'formerly', 'known', 'perot', 'systems', 'singapore', 'pte', 'ltd', 'may', 'may', 'accounting', 'advisor', 'asia', 'controller', 'responsibilities', 'responsible', 'accounts', 'payable', 'receivable', 'general', 'accounting', 'financial', 'planning', 'analysis', 'apac', 'region', 'maintaining', 'books', 'account', 'apac', 'region', 'payroll', 'checking', 'reconciliation', 'disbursement', 'statutory', 'payment', 'apac', 'region', 'accountable', 'month', 'end', 'activities', 'i', 'e', 'accounts', 'payable', 'general', 'accounting', 'budgeting', 'forecasting', 'asset', 'management', 'bank', 'reconciliation', 'includes', 'restatements', 'also', 'preparation', 'local', 'statutory', 'returns', 'i', 'e', 'gst', 'payroll', 'tax', 'services', 'tax', 'cpf', 'returns', 'submitted', 'local', 'statutory', 'board', 'within', 'stipulated', 'period', 'avoid', 'compliances', 'audit', 'engagement', 'pwc', 'preparation', 'balance', 'sheet', 'schedules', 'consolidation', 'trial', 'balance', 'grouping', 'financial', 'variation', 'analysis', 'coordination', 'onsite', 'offshore', 'associates', 'project', 'manager', 'respect', 'revenue', 'recognition', 'employee', 'related', 'disbursements', 'contribution', 'towards', 'organizational', 'initiatives', 'e', 'g', 'knowledge', 'sox', 'compliance', 'communication', 'associates', 'ensure', 'company', 'policies', 'compliances', 'followed', 'hcl', 'perot', 'systems', 'india', 'april', 'april', 'finance', 'associate', 'responsibilities', 'responsible', 'book', 'keeping', 'apac', 'region', 'month', 'end', 'closure', 'books', 'accounts', 'involving', 'provisioning', 'various', 'direct', 'indirect', 'expenses', 'bank', 'reconciliations', 'revenue', 'recognition', 'invoicing', 'ubs', 'union', 'bank', 'switzerland', 'one', 'principal', 'clients', 'companies', 'estimation', 'monthly', 'revenue', 'accrual', 'summary', 'circulated', 'onsite', 'managers', 'senior', 'management', 'india', 'apac', 'assistance', 'preparation', 'payroll', 'employee', 'tax', 'computation', 'cpf', 'employee', 'tax', 'filing', 'responsible', 'inter', 'company', 'accounts', 'reconciliations', 'asia', 'pacific', 'principal', 'entity', 'india', 'offshore', 'audit', 'support', 'apac', 'region', 'involving', 'preparation', 'various', 'schedules', 'attached', 'balance', 'sheet', 'profit', 'loss', 'account', 'concerned', 'entity', 'assisting', 'final', 'audit', 'apac', 'malaysia', 'entity', 'annual', 'audit', 'performed', 'india', 'm', 's', 'standard', 'cartons', 'pvt', 'ltd', 'august', 'march', 'sr', 'accountant', 'india', 'responsibilities', 'control', 'supervision', 'day', 'to', 'day', 'financial', 'transaction', 'taking', 'care', 'india', 'sales', 'tax', 'income', 'tax', 'registered', 'company', 'employees', 'state', 'insurance', 'corporation', 'employees', 'provident', 'funds', 'projection', 'company', 'results', 'purposes', 'applying', 'loan', 'banks', 'handling', 'treasury', 'related', 'activities', 'monthly', 'reconciliation', 'banks', 'responsible', 'annual', 'statutory', 'audits', 'finalization', 'balance', 'sheet', 'profit', 'loss', 'accounts', 'liaising', 'suppliers', 'dealers', 'ensure', 'companies', 'policies', 'followed', 'sox', 'compliances', 'taken', 'care', 'of', 'm', 's', 'repro', 'offset', 'india', 'pvt', 'ltd', 'july', 'may', 'accountant', 'responsibilities', 'control', 'supervision', 'day', 'to', 'day', 'financial', 'transaction', 'payroll', 'processing', 'projection', 'company', 'results', 'purposes', 'applying', 'loan', 'bank', 'overdraft', 'treasury', 'related', 'activities', 'bank', 'reconciliations', 'responsible', 'annual', 'statutory', 'audits', 'finalization', 'balance', 'sheet', 'profit', 'loss', 'accounts', 'responsible', 'local', 'taxes', 'preparation', 'submitted', 'government', 'm', 's', 'genesis', 'august', 'june', 'accountant', 'job', 'profile', 'assisting', 'day', 'to', 'day', 'financial', 'transaction', 'bank', 'reconciliations', 'supporting', 'annual', 'audit', 'taking', 'care', 'sales', 'tax', 'manual', 'payroll', 'processing', 'accounting', 'professional', 'training', 'and', 'education', 'bachelor', 'commerce', 'accounting', 'finance', 'utkal', 'university', 'india', 'master', 'business', 'administration', 'mba', 'finance', 'punjab', 'technical', 'university', 'india', 'diploma', 'computer', 'application', 'financial', 'accounting', 'including', 'tally', 'diploma', 'sap', 'erp', 'finance', 'controlling', 'systems', 'i', 'completed', 'course', 'sap', 'r', 'fico', 'worked', 'different', 'applications', 'area', 'finance', 'my', 'exposure', 'includes', 'general', 'ledger', 'accounts', 'payable', 'receivables', 'webcom', 'technologies', 'possess', 'strong', 'analytical', 'communication', 'skills', 'british', 'council', 'key', 'accomplishments', 'consecutive', 'three', 'silver', 'award', 'winners', 'q2', 'fy', 'q2', 'fy12', 'q1', 'fy14', 'have', 'successfully', 'completed', 'local', 'international', 'entity', 'liquidations', 'strike', 'off'], ['ng', 'ka', 'wah', 'hong', 'kong', 'mobile', 'email', 'ngwah1988', 'gmail', 'com', 'references', 'available', 'upon', 'request'], ['wee', 'shu', 'yi', 'stephanie', 'cellular', 'number', 'email', 'address', 'wsystephanie', 'yahoo', 'com', 'work', 'experience', 'rhb', 'securities', 'singapore', 'pte', 'ltd', 'avp', 'institutional', 'fixed', 'income', 'sales', 'covers', 'insti', 'pb', 'clients', 'sold', 'new', 'bond', 'issues', 'crossed', 'trades', 'moved', 'axes', 'prepared', 'daily', 'commentaries', 'investment', 'ideas', 'worked', 'reverse', 'enquiries', 'spearheaded', 'growth', 'fixed', 'income', 'sales', 'desk', 'onboarded', 'accounts', 'key', 'clientele', 'coverage', 'sg', 'malaysia', 'brunei', 'hk', 'key', 'credit', 'markets', 'usd', 'sgd', 'myr', 'idr', 'hkd', 'aud', 'ig', 'hy', 'recognised', 'hq', 'major', 'contributor', 'rhb', 's', 'regional', 'fi', 'growth', 'jun', 'present', 'may', 'jun', 'hsbc', 'associate', 'institutional', 'credit', 'sales', 'covered', 'pb', 'insti', 'clients', 'sold', 'new', 'bond', 'issues', 'moved', \"traders'\", 'axes', 'priced', 'bonds', 'performed', 'relative', 'value', 'analysis', 'dealt', 'cds', 'created', 'model', 'capture', 'bond', 'swap', 'spreads', 'aid', 'relative', 'value', 'analysis', 'analysed', 'daily', 'hits', 'misses', 'trades', 'fixed', 'income', 'rates', 'credit', 'market', 'key', 'clientele', 'coverage', 'sg', 'key', 'credit', 'markets', 'g3', 'sgd', 'cnh', 'hkd', 'aud', 'ig', 'hy', 'citigroup', 'may', 'jul', 'summer', 'analyst', 'global', 'transaction', 'services', 'trade', 'finance', 'analysed', 'asset', 'revenue', 'trends', \"citi's\", 'asia', 'trade', 'finance', 'business', 'managed', 'asia', 'network', 'trade', 'campaign', 'revenues', 'grew', 'us', 'million', 'researched', 'commodities', 'flow', 'identify', 'major', 'global', 'export', 'import', 'players', 'picked', 'essential', 'presentation', 'skills', 'effectively', 'sell', 'ideas', 'education', 'national', 'university', 'singapore', 'bachelor', 'business', 'administration', 'finance', 'major', 'cumulative', 'average', 'point', 'placed', \"dean's\", 'list', 'studied', 'portfolio', 'management', 'fixed', 'income', 'derivatives', 'investment', 'analysis', 'the', 'chinese', 'university', 'hong', 'kong', 'selected', 'summer', 'exchange', 'programme', 'victoria', 'junior', 'college', 'gce', 'a', 'levels', 'distinctions', 'maths', 'chemistry', 'biology', 'merits', 's', 'papers', 'maths', 'chemistry', 'co', 'curricular', 'activities', 'national', 'university', 'singapore', 'secretary', 'biz', 'connect', 'guided', 'juniors', 'internships', 'overseas', 'trips', 'academic', 'lives', 'nus', 'organised', 'investment', 'financial', 'markets', 'seminars', 'enhance', 'awareness', 'national', 'university', 'singapore', 'session', 'leader', 'golf', 'club', 'mentored', 'coached', 'new', 'members', 'acquire', 'golfing', 'skills', 'led', 'team', 'mates', 'team', 'building', 'bonding', 'national', 'university', 'singapore', 'cluster', 'leader', 'prince', \"george's\", 'park', 'residence', 'led', 'hall', 'residents', 'organising', 'annual', 'cultural', 'potluck', 'gatherings', 'awards', 'achievements', 'represented', 'sg', 'supermajor', \"total's\", 'intl', 'oil', 'conference', 'week', 'paris', 'attendees', 'include', 'delegates', 'imperial', 'cambridge', 'universities', 'emerged', 'successful', 'citi', 'foreign', 'exchange', 'challenge', 'trader', 'represented', 'nus', '6mths', 'associate', 'credit', 'analyst', 'internship', 'lenovo', 'china', 'member', 'prestigious', 'beta', 'gamma', 'sigma', 'international', 'honour', 'society', 'competed', 'poems', 'stock', 'challenge', 'skills', 'other', 'information', 'fluent', 'english', 'mandarin', 'cantonese', 'spoken', 'written', 'proficient', 'microsoft', 'word', 'powerpoint', 'excel', 'bloomberg', 'reuters', 'possess', 'mas', 'certified', 'dealing', 'trading', 'representative', 'rnf', 'license', 'aug', 'dec', 'jun', 'aug', 'jan', 'dec', 'jan', 'dec', 'aug', 'dec', 'aug', 'may']]\n"
     ]
    }
   ],
   "source": [
    "print(tokenized_resumes[:3])"
   ]
  },
  {
   "cell_type": "code",
   "execution_count": 14,
   "metadata": {
    "colab": {},
    "colab_type": "code",
    "id": "7uw9CNz2DYa8"
   },
   "outputs": [],
   "source": [
    "txt_file = projectDir + 'data/clean_resume/resume'"
   ]
  },
  {
   "cell_type": "code",
   "execution_count": 19,
   "metadata": {
    "colab": {},
    "colab_type": "code",
    "id": "fDm279c0DYbI"
   },
   "outputs": [],
   "source": [
    "i = 0\n",
    "for resume in tokenized_resumes:\n",
    "    tok_resume = ''\n",
    "    for tok in resume:\n",
    "        tok_resume = tok_resume + tok + ' '\n",
    "    file = open(txt_file + str(i), 'w+')\n",
    "    file.writelines(tok_resume)\n",
    "    file.close()\n",
    "    i += 1"
   ]
  },
  {
   "cell_type": "code",
   "execution_count": null,
   "metadata": {},
   "outputs": [],
   "source": []
  }
 ],
 "metadata": {
  "colab": {
   "collapsed_sections": [],
   "name": "rawResume_2_csv.ipynb",
   "provenance": []
  },
  "kernelspec": {
   "display_name": "Python 3",
   "language": "python",
   "name": "python3"
  },
  "language_info": {
   "codemirror_mode": {
    "name": "ipython",
    "version": 3
   },
   "file_extension": ".py",
   "mimetype": "text/x-python",
   "name": "python",
   "nbconvert_exporter": "python",
   "pygments_lexer": "ipython3",
   "version": "3.8.2"
  }
 },
 "nbformat": 4,
 "nbformat_minor": 1
}
